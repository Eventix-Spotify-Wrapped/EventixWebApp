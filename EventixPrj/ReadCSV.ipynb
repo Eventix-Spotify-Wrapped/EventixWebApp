{
 "cells": [
  {
   "cell_type": "code",
   "execution_count": 2,
   "id": "dd39ac96-b17e-4d35-bf87-68d2a4b5eee2",
   "metadata": {
    "tags": [],
    "ExecuteTime": {
     "start_time": "2023-04-26T12:45:35.768888Z",
     "end_time": "2023-04-26T12:45:35.790624Z"
    }
   },
   "outputs": [],
   "source": [
    "import pandas as pd\n",
    "import numpy as np\n",
    "from EventixApp import models"
   ]
  },
  {
   "cell_type": "code",
   "execution_count": 1,
   "id": "1070ac72",
   "metadata": {
    "ExecuteTime": {
     "start_time": "2023-04-26T12:45:32.856830Z",
     "end_time": "2023-04-26T12:45:33.320464Z"
    }
   },
   "outputs": [],
   "source": [
    "import os\n",
    "import django\n",
    "\n",
    "os.environ.setdefault(\"DJANGO_SETTINGS_MODULE\", \"EventixPrj.settings\")\n",
    "django.setup()\n",
    "\n",
    "# Now you can access the Django settings\n",
    "from django.conf import settings\n"
   ]
  },
  {
   "cell_type": "code",
   "execution_count": 3,
   "id": "ebac12ba",
   "metadata": {
    "ExecuteTime": {
     "start_time": "2023-04-26T12:45:39.479649Z",
     "end_time": "2023-04-26T12:45:39.575519Z"
    }
   },
   "outputs": [
    {
     "data": {
      "text/plain": "                                   order_id shop_name         event_name   \n0      83e76600-578b-11e8-ad2b-d173c948ee97    Import  Data preview 2016  \\\n1      840eb3f0-578b-11e8-a5c9-85d10625a2f9    Import  Data preview 2016   \n2      841e4200-578b-11e8-92cd-417a1e0ce789    Import  Data preview 2016   \n3      842c41a0-578b-11e8-a504-617e561097f4    Import  Data preview 2016   \n4      8464e380-578b-11e8-aa96-7bf1a2132ee7    Import  Data preview 2016   \n...                                     ...       ...                ...   \n12204  1bee9b30-5789-11e8-a7bd-d12079e866bb    Import  Data preview 2017   \n12205  1c035b00-5789-11e8-a03b-15588bc0df41    Import  Data preview 2017   \n12206  1c18f0f0-5789-11e8-bb27-41e04e6b3a0e    Import  Data preview 2017   \n12207  1c1e0510-5789-11e8-9575-e35e5b09ce1c    Import  Data preview 2017   \n12208  1c2e41c0-5789-11e8-8773-033b5a97e112    Import  Data preview 2017   \n\n      event_category event_subcategories first_event_date_start   \n0              other               other    09/12/2016 17:00:00  \\\n1              other               other    09/12/2016 17:00:00   \n2              other               other    09/12/2016 17:00:00   \n3              other               other    09/12/2016 17:00:00   \n4              other               other    09/12/2016 17:00:00   \n...              ...                 ...                    ...   \n12204          other               other    09/11/2017 17:00:00   \n12205          other               other    09/11/2017 17:00:00   \n12206          other               other    09/11/2017 17:00:00   \n12207          other               other    09/11/2017 17:00:00   \n12208          other               other    09/11/2017 17:00:00   \n\n       last_event_date_end first_name last_name                        email   \n0      09/12/2016 21:00:00      Hazel      Good  placeholder5370@hotmail.com  \\\n1      09/12/2016 21:00:00    Anthony  Chandler  placeholder5373@hotmail.com   \n2      09/12/2016 21:00:00       Kash  Atkinson  placeholder5374@hotmail.com   \n3      09/12/2016 21:00:00     Tanner   Padilla  placeholder5375@hotmail.com   \n4      09/12/2016 21:00:00    Jaylene  Browning  placeholder5379@hotmail.com   \n...                    ...        ...       ...                          ...   \n12204  09/11/2017 21:00:00        Rex  Carrillo    placeholder19@hotmail.com   \n12205  09/11/2017 21:00:00       Josh   Benitez    placeholder23@hotmail.com   \n12206  09/11/2017 21:00:00     Aditya   Hubbard    placeholder27@hotmail.com   \n12207  09/11/2017 21:00:00    Griffin    Barker    placeholder28@hotmail.com   \n12208  09/11/2017 21:00:00       Evan       Fox    placeholder31@hotmail.com   \n\n       ... geolocation_street_number geolocation_locality   \n0      ...                       NaN                  NaN  \\\n1      ...                       NaN                  NaN   \n2      ...                       NaN                  NaN   \n3      ...                       NaN                  NaN   \n4      ...                       NaN                  NaN   \n...    ...                       ...                  ...   \n12204  ...                       NaN                  NaN   \n12205  ...                       NaN                  NaN   \n12206  ...                       NaN                  NaN   \n12207  ...                       NaN                  NaN   \n12208  ...                       NaN                  NaN   \n\n      geolocation_postal_code  geolocation_sub_locality   \n0                         NaN                       NaN  \\\n1                         NaN                       NaN   \n2                         NaN                       NaN   \n3                         NaN                       NaN   \n4                         NaN                       NaN   \n...                       ...                       ...   \n12204                     NaN                       NaN   \n12205                     NaN                       NaN   \n12206                     NaN                       NaN   \n12207                     NaN                       NaN   \n12208                     NaN                       NaN   \n\n       geolocation_admin_level_1  geolocation_admin_level_2   \n0                            NaN                        NaN  \\\n1                            NaN                        NaN   \n2                            NaN                        NaN   \n3                            NaN                        NaN   \n4                            NaN                        NaN   \n...                          ...                        ...   \n12204                        NaN                        NaN   \n12205                        NaN                        NaN   \n12206                        NaN                        NaN   \n12207                        NaN                        NaN   \n12208                        NaN                        NaN   \n\n       geolocation_country_code geolocation_latitude  geolocation_longitude   \n0                           NaN                  NaN                    NaN  \\\n1                           NaN                  NaN                    NaN   \n2                           NaN                  NaN                    NaN   \n3                           NaN                  NaN                    NaN   \n4                           NaN                  NaN                    NaN   \n...                         ...                  ...                    ...   \n12204                       NaN                  NaN                    NaN   \n12205                       NaN                  NaN                    NaN   \n12206                       NaN                  NaN                    NaN   \n12207                       NaN                  NaN                    NaN   \n12208                       NaN                  NaN                    NaN   \n\n       ticket_pdf_link  \n0                  NaN  \n1                  NaN  \n2                  NaN  \n3                  NaN  \n4                  NaN  \n...                ...  \n12204              NaN  \n12205              NaN  \n12206              NaN  \n12207              NaN  \n12208              NaN  \n\n[12209 rows x 92 columns]",
      "text/html": "<div>\n<style scoped>\n    .dataframe tbody tr th:only-of-type {\n        vertical-align: middle;\n    }\n\n    .dataframe tbody tr th {\n        vertical-align: top;\n    }\n\n    .dataframe thead th {\n        text-align: right;\n    }\n</style>\n<table border=\"1\" class=\"dataframe\">\n  <thead>\n    <tr style=\"text-align: right;\">\n      <th></th>\n      <th>order_id</th>\n      <th>shop_name</th>\n      <th>event_name</th>\n      <th>event_category</th>\n      <th>event_subcategories</th>\n      <th>first_event_date_start</th>\n      <th>last_event_date_end</th>\n      <th>first_name</th>\n      <th>last_name</th>\n      <th>email</th>\n      <th>...</th>\n      <th>geolocation_street_number</th>\n      <th>geolocation_locality</th>\n      <th>geolocation_postal_code</th>\n      <th>geolocation_sub_locality</th>\n      <th>geolocation_admin_level_1</th>\n      <th>geolocation_admin_level_2</th>\n      <th>geolocation_country_code</th>\n      <th>geolocation_latitude</th>\n      <th>geolocation_longitude</th>\n      <th>ticket_pdf_link</th>\n    </tr>\n  </thead>\n  <tbody>\n    <tr>\n      <th>0</th>\n      <td>83e76600-578b-11e8-ad2b-d173c948ee97</td>\n      <td>Import</td>\n      <td>Data preview 2016</td>\n      <td>other</td>\n      <td>other</td>\n      <td>09/12/2016 17:00:00</td>\n      <td>09/12/2016 21:00:00</td>\n      <td>Hazel</td>\n      <td>Good</td>\n      <td>placeholder5370@hotmail.com</td>\n      <td>...</td>\n      <td>NaN</td>\n      <td>NaN</td>\n      <td>NaN</td>\n      <td>NaN</td>\n      <td>NaN</td>\n      <td>NaN</td>\n      <td>NaN</td>\n      <td>NaN</td>\n      <td>NaN</td>\n      <td>NaN</td>\n    </tr>\n    <tr>\n      <th>1</th>\n      <td>840eb3f0-578b-11e8-a5c9-85d10625a2f9</td>\n      <td>Import</td>\n      <td>Data preview 2016</td>\n      <td>other</td>\n      <td>other</td>\n      <td>09/12/2016 17:00:00</td>\n      <td>09/12/2016 21:00:00</td>\n      <td>Anthony</td>\n      <td>Chandler</td>\n      <td>placeholder5373@hotmail.com</td>\n      <td>...</td>\n      <td>NaN</td>\n      <td>NaN</td>\n      <td>NaN</td>\n      <td>NaN</td>\n      <td>NaN</td>\n      <td>NaN</td>\n      <td>NaN</td>\n      <td>NaN</td>\n      <td>NaN</td>\n      <td>NaN</td>\n    </tr>\n    <tr>\n      <th>2</th>\n      <td>841e4200-578b-11e8-92cd-417a1e0ce789</td>\n      <td>Import</td>\n      <td>Data preview 2016</td>\n      <td>other</td>\n      <td>other</td>\n      <td>09/12/2016 17:00:00</td>\n      <td>09/12/2016 21:00:00</td>\n      <td>Kash</td>\n      <td>Atkinson</td>\n      <td>placeholder5374@hotmail.com</td>\n      <td>...</td>\n      <td>NaN</td>\n      <td>NaN</td>\n      <td>NaN</td>\n      <td>NaN</td>\n      <td>NaN</td>\n      <td>NaN</td>\n      <td>NaN</td>\n      <td>NaN</td>\n      <td>NaN</td>\n      <td>NaN</td>\n    </tr>\n    <tr>\n      <th>3</th>\n      <td>842c41a0-578b-11e8-a504-617e561097f4</td>\n      <td>Import</td>\n      <td>Data preview 2016</td>\n      <td>other</td>\n      <td>other</td>\n      <td>09/12/2016 17:00:00</td>\n      <td>09/12/2016 21:00:00</td>\n      <td>Tanner</td>\n      <td>Padilla</td>\n      <td>placeholder5375@hotmail.com</td>\n      <td>...</td>\n      <td>NaN</td>\n      <td>NaN</td>\n      <td>NaN</td>\n      <td>NaN</td>\n      <td>NaN</td>\n      <td>NaN</td>\n      <td>NaN</td>\n      <td>NaN</td>\n      <td>NaN</td>\n      <td>NaN</td>\n    </tr>\n    <tr>\n      <th>4</th>\n      <td>8464e380-578b-11e8-aa96-7bf1a2132ee7</td>\n      <td>Import</td>\n      <td>Data preview 2016</td>\n      <td>other</td>\n      <td>other</td>\n      <td>09/12/2016 17:00:00</td>\n      <td>09/12/2016 21:00:00</td>\n      <td>Jaylene</td>\n      <td>Browning</td>\n      <td>placeholder5379@hotmail.com</td>\n      <td>...</td>\n      <td>NaN</td>\n      <td>NaN</td>\n      <td>NaN</td>\n      <td>NaN</td>\n      <td>NaN</td>\n      <td>NaN</td>\n      <td>NaN</td>\n      <td>NaN</td>\n      <td>NaN</td>\n      <td>NaN</td>\n    </tr>\n    <tr>\n      <th>...</th>\n      <td>...</td>\n      <td>...</td>\n      <td>...</td>\n      <td>...</td>\n      <td>...</td>\n      <td>...</td>\n      <td>...</td>\n      <td>...</td>\n      <td>...</td>\n      <td>...</td>\n      <td>...</td>\n      <td>...</td>\n      <td>...</td>\n      <td>...</td>\n      <td>...</td>\n      <td>...</td>\n      <td>...</td>\n      <td>...</td>\n      <td>...</td>\n      <td>...</td>\n      <td>...</td>\n    </tr>\n    <tr>\n      <th>12204</th>\n      <td>1bee9b30-5789-11e8-a7bd-d12079e866bb</td>\n      <td>Import</td>\n      <td>Data preview 2017</td>\n      <td>other</td>\n      <td>other</td>\n      <td>09/11/2017 17:00:00</td>\n      <td>09/11/2017 21:00:00</td>\n      <td>Rex</td>\n      <td>Carrillo</td>\n      <td>placeholder19@hotmail.com</td>\n      <td>...</td>\n      <td>NaN</td>\n      <td>NaN</td>\n      <td>NaN</td>\n      <td>NaN</td>\n      <td>NaN</td>\n      <td>NaN</td>\n      <td>NaN</td>\n      <td>NaN</td>\n      <td>NaN</td>\n      <td>NaN</td>\n    </tr>\n    <tr>\n      <th>12205</th>\n      <td>1c035b00-5789-11e8-a03b-15588bc0df41</td>\n      <td>Import</td>\n      <td>Data preview 2017</td>\n      <td>other</td>\n      <td>other</td>\n      <td>09/11/2017 17:00:00</td>\n      <td>09/11/2017 21:00:00</td>\n      <td>Josh</td>\n      <td>Benitez</td>\n      <td>placeholder23@hotmail.com</td>\n      <td>...</td>\n      <td>NaN</td>\n      <td>NaN</td>\n      <td>NaN</td>\n      <td>NaN</td>\n      <td>NaN</td>\n      <td>NaN</td>\n      <td>NaN</td>\n      <td>NaN</td>\n      <td>NaN</td>\n      <td>NaN</td>\n    </tr>\n    <tr>\n      <th>12206</th>\n      <td>1c18f0f0-5789-11e8-bb27-41e04e6b3a0e</td>\n      <td>Import</td>\n      <td>Data preview 2017</td>\n      <td>other</td>\n      <td>other</td>\n      <td>09/11/2017 17:00:00</td>\n      <td>09/11/2017 21:00:00</td>\n      <td>Aditya</td>\n      <td>Hubbard</td>\n      <td>placeholder27@hotmail.com</td>\n      <td>...</td>\n      <td>NaN</td>\n      <td>NaN</td>\n      <td>NaN</td>\n      <td>NaN</td>\n      <td>NaN</td>\n      <td>NaN</td>\n      <td>NaN</td>\n      <td>NaN</td>\n      <td>NaN</td>\n      <td>NaN</td>\n    </tr>\n    <tr>\n      <th>12207</th>\n      <td>1c1e0510-5789-11e8-9575-e35e5b09ce1c</td>\n      <td>Import</td>\n      <td>Data preview 2017</td>\n      <td>other</td>\n      <td>other</td>\n      <td>09/11/2017 17:00:00</td>\n      <td>09/11/2017 21:00:00</td>\n      <td>Griffin</td>\n      <td>Barker</td>\n      <td>placeholder28@hotmail.com</td>\n      <td>...</td>\n      <td>NaN</td>\n      <td>NaN</td>\n      <td>NaN</td>\n      <td>NaN</td>\n      <td>NaN</td>\n      <td>NaN</td>\n      <td>NaN</td>\n      <td>NaN</td>\n      <td>NaN</td>\n      <td>NaN</td>\n    </tr>\n    <tr>\n      <th>12208</th>\n      <td>1c2e41c0-5789-11e8-8773-033b5a97e112</td>\n      <td>Import</td>\n      <td>Data preview 2017</td>\n      <td>other</td>\n      <td>other</td>\n      <td>09/11/2017 17:00:00</td>\n      <td>09/11/2017 21:00:00</td>\n      <td>Evan</td>\n      <td>Fox</td>\n      <td>placeholder31@hotmail.com</td>\n      <td>...</td>\n      <td>NaN</td>\n      <td>NaN</td>\n      <td>NaN</td>\n      <td>NaN</td>\n      <td>NaN</td>\n      <td>NaN</td>\n      <td>NaN</td>\n      <td>NaN</td>\n      <td>NaN</td>\n      <td>NaN</td>\n    </tr>\n  </tbody>\n</table>\n<p>12209 rows × 92 columns</p>\n</div>"
     },
     "execution_count": 3,
     "metadata": {},
     "output_type": "execute_result"
    }
   ],
   "source": [
    "df_tickets = pd.read_csv(\"C:/Users/tepap/Desktop/Eventix/EventixWebApp/ticketing_export_2023_03_24_11_27_16.csv\", encoding='latin1', low_memory=False)\n",
    "df_tickets"
   ]
  },
  {
   "cell_type": "code",
   "execution_count": 4,
   "id": "9d0c0ec8-3b52-4190-8c7b-7862fa133174",
   "metadata": {
    "tags": [],
    "ExecuteTime": {
     "start_time": "2023-04-26T12:38:18.789817Z",
     "end_time": "2023-04-26T12:38:20.296801Z"
    }
   },
   "outputs": [
    {
     "ename": "SynchronousOnlyOperation",
     "evalue": "You cannot call this from an async context - use a thread or sync_to_async.",
     "output_type": "error",
     "traceback": [
      "\u001B[1;31m---------------------------------------------------------------------------\u001B[0m",
      "\u001B[1;31mSynchronousOnlyOperation\u001B[0m                  Traceback (most recent call last)",
      "Cell \u001B[1;32mIn[4], line 107\u001B[0m\n\u001B[0;32m      8\u001B[0m    transaction_data \u001B[38;5;241m=\u001B[39m {\n\u001B[0;32m      9\u001B[0m        \u001B[38;5;124m'\u001B[39m\u001B[38;5;124morder_id\u001B[39m\u001B[38;5;124m'\u001B[39m: row[\u001B[38;5;124m'\u001B[39m\u001B[38;5;124morder_id\u001B[39m\u001B[38;5;124m'\u001B[39m],\n\u001B[0;32m     10\u001B[0m        \u001B[38;5;124m'\u001B[39m\u001B[38;5;124mshop_name\u001B[39m\u001B[38;5;124m'\u001B[39m: row[\u001B[38;5;124m'\u001B[39m\u001B[38;5;124mshop_name\u001B[39m\u001B[38;5;124m'\u001B[39m],\n\u001B[1;32m   (...)\u001B[0m\n\u001B[0;32m    104\u001B[0m        \u001B[38;5;66;03m# add other valid attributes here\u001B[39;00m\n\u001B[0;32m    105\u001B[0m    }\n\u001B[0;32m    106\u001B[0m    obj \u001B[38;5;241m=\u001B[39m models\u001B[38;5;241m.\u001B[39mTransaction(transaction_data)\n\u001B[1;32m--> 107\u001B[0m    \u001B[43mobj\u001B[49m\u001B[38;5;241;43m.\u001B[39;49m\u001B[43msave\u001B[49m\u001B[43m(\u001B[49m\u001B[43m)\u001B[49m\n\u001B[0;32m    109\u001B[0m    \u001B[38;5;66;03m# transaction = models.Transaction(**transaction_data)\u001B[39;00m\n\u001B[0;32m    110\u001B[0m    \u001B[38;5;66;03m# transaction.save()\u001B[39;00m\n\u001B[0;32m    112\u001B[0m objects\n",
      "File \u001B[1;32m~\\AppData\\Local\\Programs\\Python\\Python311\\Lib\\site-packages\\django\\db\\models\\base.py:814\u001B[0m, in \u001B[0;36mModel.save\u001B[1;34m(self, force_insert, force_update, using, update_fields)\u001B[0m\n\u001B[0;32m    811\u001B[0m     \u001B[38;5;28;01mif\u001B[39;00m loaded_fields:\n\u001B[0;32m    812\u001B[0m         update_fields \u001B[38;5;241m=\u001B[39m \u001B[38;5;28mfrozenset\u001B[39m(loaded_fields)\n\u001B[1;32m--> 814\u001B[0m \u001B[38;5;28;43mself\u001B[39;49m\u001B[38;5;241;43m.\u001B[39;49m\u001B[43msave_base\u001B[49m\u001B[43m(\u001B[49m\n\u001B[0;32m    815\u001B[0m \u001B[43m    \u001B[49m\u001B[43musing\u001B[49m\u001B[38;5;241;43m=\u001B[39;49m\u001B[43musing\u001B[49m\u001B[43m,\u001B[49m\n\u001B[0;32m    816\u001B[0m \u001B[43m    \u001B[49m\u001B[43mforce_insert\u001B[49m\u001B[38;5;241;43m=\u001B[39;49m\u001B[43mforce_insert\u001B[49m\u001B[43m,\u001B[49m\n\u001B[0;32m    817\u001B[0m \u001B[43m    \u001B[49m\u001B[43mforce_update\u001B[49m\u001B[38;5;241;43m=\u001B[39;49m\u001B[43mforce_update\u001B[49m\u001B[43m,\u001B[49m\n\u001B[0;32m    818\u001B[0m \u001B[43m    \u001B[49m\u001B[43mupdate_fields\u001B[49m\u001B[38;5;241;43m=\u001B[39;49m\u001B[43mupdate_fields\u001B[49m\u001B[43m,\u001B[49m\n\u001B[0;32m    819\u001B[0m \u001B[43m\u001B[49m\u001B[43m)\u001B[49m\n",
      "File \u001B[1;32m~\\AppData\\Local\\Programs\\Python\\Python311\\Lib\\site-packages\\django\\db\\models\\base.py:877\u001B[0m, in \u001B[0;36mModel.save_base\u001B[1;34m(self, raw, force_insert, force_update, using, update_fields)\u001B[0m\n\u001B[0;32m    875\u001B[0m     \u001B[38;5;28;01mif\u001B[39;00m \u001B[38;5;129;01mnot\u001B[39;00m raw:\n\u001B[0;32m    876\u001B[0m         parent_inserted \u001B[38;5;241m=\u001B[39m \u001B[38;5;28mself\u001B[39m\u001B[38;5;241m.\u001B[39m_save_parents(\u001B[38;5;28mcls\u001B[39m, using, update_fields)\n\u001B[1;32m--> 877\u001B[0m     updated \u001B[38;5;241m=\u001B[39m \u001B[38;5;28;43mself\u001B[39;49m\u001B[38;5;241;43m.\u001B[39;49m\u001B[43m_save_table\u001B[49m\u001B[43m(\u001B[49m\n\u001B[0;32m    878\u001B[0m \u001B[43m        \u001B[49m\u001B[43mraw\u001B[49m\u001B[43m,\u001B[49m\n\u001B[0;32m    879\u001B[0m \u001B[43m        \u001B[49m\u001B[38;5;28;43mcls\u001B[39;49m\u001B[43m,\u001B[49m\n\u001B[0;32m    880\u001B[0m \u001B[43m        \u001B[49m\u001B[43mforce_insert\u001B[49m\u001B[43m \u001B[49m\u001B[38;5;129;43;01mor\u001B[39;49;00m\u001B[43m \u001B[49m\u001B[43mparent_inserted\u001B[49m\u001B[43m,\u001B[49m\n\u001B[0;32m    881\u001B[0m \u001B[43m        \u001B[49m\u001B[43mforce_update\u001B[49m\u001B[43m,\u001B[49m\n\u001B[0;32m    882\u001B[0m \u001B[43m        \u001B[49m\u001B[43musing\u001B[49m\u001B[43m,\u001B[49m\n\u001B[0;32m    883\u001B[0m \u001B[43m        \u001B[49m\u001B[43mupdate_fields\u001B[49m\u001B[43m,\u001B[49m\n\u001B[0;32m    884\u001B[0m \u001B[43m    \u001B[49m\u001B[43m)\u001B[49m\n\u001B[0;32m    885\u001B[0m \u001B[38;5;66;03m# Store the database on which the object was saved\u001B[39;00m\n\u001B[0;32m    886\u001B[0m \u001B[38;5;28mself\u001B[39m\u001B[38;5;241m.\u001B[39m_state\u001B[38;5;241m.\u001B[39mdb \u001B[38;5;241m=\u001B[39m using\n",
      "File \u001B[1;32m~\\AppData\\Local\\Programs\\Python\\Python311\\Lib\\site-packages\\django\\db\\models\\base.py:990\u001B[0m, in \u001B[0;36mModel._save_table\u001B[1;34m(self, raw, cls, force_insert, force_update, using, update_fields)\u001B[0m\n\u001B[0;32m    981\u001B[0m values \u001B[38;5;241m=\u001B[39m [\n\u001B[0;32m    982\u001B[0m     (\n\u001B[0;32m    983\u001B[0m         f,\n\u001B[1;32m   (...)\u001B[0m\n\u001B[0;32m    987\u001B[0m     \u001B[38;5;28;01mfor\u001B[39;00m f \u001B[38;5;129;01min\u001B[39;00m non_pks\n\u001B[0;32m    988\u001B[0m ]\n\u001B[0;32m    989\u001B[0m forced_update \u001B[38;5;241m=\u001B[39m update_fields \u001B[38;5;129;01mor\u001B[39;00m force_update\n\u001B[1;32m--> 990\u001B[0m updated \u001B[38;5;241m=\u001B[39m \u001B[38;5;28;43mself\u001B[39;49m\u001B[38;5;241;43m.\u001B[39;49m\u001B[43m_do_update\u001B[49m\u001B[43m(\u001B[49m\n\u001B[0;32m    991\u001B[0m \u001B[43m    \u001B[49m\u001B[43mbase_qs\u001B[49m\u001B[43m,\u001B[49m\u001B[43m \u001B[49m\u001B[43musing\u001B[49m\u001B[43m,\u001B[49m\u001B[43m \u001B[49m\u001B[43mpk_val\u001B[49m\u001B[43m,\u001B[49m\u001B[43m \u001B[49m\u001B[43mvalues\u001B[49m\u001B[43m,\u001B[49m\u001B[43m \u001B[49m\u001B[43mupdate_fields\u001B[49m\u001B[43m,\u001B[49m\u001B[43m \u001B[49m\u001B[43mforced_update\u001B[49m\n\u001B[0;32m    992\u001B[0m \u001B[43m\u001B[49m\u001B[43m)\u001B[49m\n\u001B[0;32m    993\u001B[0m \u001B[38;5;28;01mif\u001B[39;00m force_update \u001B[38;5;129;01mand\u001B[39;00m \u001B[38;5;129;01mnot\u001B[39;00m updated:\n\u001B[0;32m    994\u001B[0m     \u001B[38;5;28;01mraise\u001B[39;00m DatabaseError(\u001B[38;5;124m\"\u001B[39m\u001B[38;5;124mForced update did not affect any rows.\u001B[39m\u001B[38;5;124m\"\u001B[39m)\n",
      "File \u001B[1;32m~\\AppData\\Local\\Programs\\Python\\Python311\\Lib\\site-packages\\django\\db\\models\\base.py:1054\u001B[0m, in \u001B[0;36mModel._do_update\u001B[1;34m(self, base_qs, using, pk_val, values, update_fields, forced_update)\u001B[0m\n\u001B[0;32m   1041\u001B[0m \u001B[38;5;28;01mif\u001B[39;00m \u001B[38;5;28mself\u001B[39m\u001B[38;5;241m.\u001B[39m_meta\u001B[38;5;241m.\u001B[39mselect_on_save \u001B[38;5;129;01mand\u001B[39;00m \u001B[38;5;129;01mnot\u001B[39;00m forced_update:\n\u001B[0;32m   1042\u001B[0m     \u001B[38;5;28;01mreturn\u001B[39;00m (\n\u001B[0;32m   1043\u001B[0m         filtered\u001B[38;5;241m.\u001B[39mexists()\n\u001B[0;32m   1044\u001B[0m         \u001B[38;5;129;01mand\u001B[39;00m\n\u001B[1;32m   (...)\u001B[0m\n\u001B[0;32m   1052\u001B[0m         (filtered\u001B[38;5;241m.\u001B[39m_update(values) \u001B[38;5;241m>\u001B[39m \u001B[38;5;241m0\u001B[39m \u001B[38;5;129;01mor\u001B[39;00m filtered\u001B[38;5;241m.\u001B[39mexists())\n\u001B[0;32m   1053\u001B[0m     )\n\u001B[1;32m-> 1054\u001B[0m \u001B[38;5;28;01mreturn\u001B[39;00m \u001B[43mfiltered\u001B[49m\u001B[38;5;241;43m.\u001B[39;49m\u001B[43m_update\u001B[49m\u001B[43m(\u001B[49m\u001B[43mvalues\u001B[49m\u001B[43m)\u001B[49m \u001B[38;5;241m>\u001B[39m \u001B[38;5;241m0\u001B[39m\n",
      "File \u001B[1;32m~\\AppData\\Local\\Programs\\Python\\Python311\\Lib\\site-packages\\django\\db\\models\\query.py:1231\u001B[0m, in \u001B[0;36mQuerySet._update\u001B[1;34m(self, values)\u001B[0m\n\u001B[0;32m   1229\u001B[0m query\u001B[38;5;241m.\u001B[39mannotations \u001B[38;5;241m=\u001B[39m {}\n\u001B[0;32m   1230\u001B[0m \u001B[38;5;28mself\u001B[39m\u001B[38;5;241m.\u001B[39m_result_cache \u001B[38;5;241m=\u001B[39m \u001B[38;5;28;01mNone\u001B[39;00m\n\u001B[1;32m-> 1231\u001B[0m \u001B[38;5;28;01mreturn\u001B[39;00m \u001B[43mquery\u001B[49m\u001B[38;5;241;43m.\u001B[39;49m\u001B[43mget_compiler\u001B[49m\u001B[43m(\u001B[49m\u001B[38;5;28;43mself\u001B[39;49m\u001B[38;5;241;43m.\u001B[39;49m\u001B[43mdb\u001B[49m\u001B[43m)\u001B[49m\u001B[38;5;241;43m.\u001B[39;49m\u001B[43mexecute_sql\u001B[49m\u001B[43m(\u001B[49m\u001B[43mCURSOR\u001B[49m\u001B[43m)\u001B[49m\n",
      "File \u001B[1;32m~\\AppData\\Local\\Programs\\Python\\Python311\\Lib\\site-packages\\django\\db\\models\\sql\\compiler.py:1982\u001B[0m, in \u001B[0;36mSQLUpdateCompiler.execute_sql\u001B[1;34m(self, result_type)\u001B[0m\n\u001B[0;32m   1975\u001B[0m \u001B[38;5;28;01mdef\u001B[39;00m \u001B[38;5;21mexecute_sql\u001B[39m(\u001B[38;5;28mself\u001B[39m, result_type):\n\u001B[0;32m   1976\u001B[0m \u001B[38;5;250m    \u001B[39m\u001B[38;5;124;03m\"\"\"\u001B[39;00m\n\u001B[0;32m   1977\u001B[0m \u001B[38;5;124;03m    Execute the specified update. Return the number of rows affected by\u001B[39;00m\n\u001B[0;32m   1978\u001B[0m \u001B[38;5;124;03m    the primary update query. The \"primary update query\" is the first\u001B[39;00m\n\u001B[0;32m   1979\u001B[0m \u001B[38;5;124;03m    non-empty query that is executed. Row counts for any subsequent,\u001B[39;00m\n\u001B[0;32m   1980\u001B[0m \u001B[38;5;124;03m    related queries are not available.\u001B[39;00m\n\u001B[0;32m   1981\u001B[0m \u001B[38;5;124;03m    \"\"\"\u001B[39;00m\n\u001B[1;32m-> 1982\u001B[0m     cursor \u001B[38;5;241m=\u001B[39m \u001B[38;5;28;43msuper\u001B[39;49m\u001B[43m(\u001B[49m\u001B[43m)\u001B[49m\u001B[38;5;241;43m.\u001B[39;49m\u001B[43mexecute_sql\u001B[49m\u001B[43m(\u001B[49m\u001B[43mresult_type\u001B[49m\u001B[43m)\u001B[49m\n\u001B[0;32m   1983\u001B[0m     \u001B[38;5;28;01mtry\u001B[39;00m:\n\u001B[0;32m   1984\u001B[0m         rows \u001B[38;5;241m=\u001B[39m cursor\u001B[38;5;241m.\u001B[39mrowcount \u001B[38;5;28;01mif\u001B[39;00m cursor \u001B[38;5;28;01melse\u001B[39;00m \u001B[38;5;241m0\u001B[39m\n",
      "File \u001B[1;32m~\\AppData\\Local\\Programs\\Python\\Python311\\Lib\\site-packages\\django\\db\\models\\sql\\compiler.py:1558\u001B[0m, in \u001B[0;36mSQLCompiler.execute_sql\u001B[1;34m(self, result_type, chunked_fetch, chunk_size)\u001B[0m\n\u001B[0;32m   1556\u001B[0m     cursor \u001B[38;5;241m=\u001B[39m \u001B[38;5;28mself\u001B[39m\u001B[38;5;241m.\u001B[39mconnection\u001B[38;5;241m.\u001B[39mchunked_cursor()\n\u001B[0;32m   1557\u001B[0m \u001B[38;5;28;01melse\u001B[39;00m:\n\u001B[1;32m-> 1558\u001B[0m     cursor \u001B[38;5;241m=\u001B[39m \u001B[38;5;28;43mself\u001B[39;49m\u001B[38;5;241;43m.\u001B[39;49m\u001B[43mconnection\u001B[49m\u001B[38;5;241;43m.\u001B[39;49m\u001B[43mcursor\u001B[49m\u001B[43m(\u001B[49m\u001B[43m)\u001B[49m\n\u001B[0;32m   1559\u001B[0m \u001B[38;5;28;01mtry\u001B[39;00m:\n\u001B[0;32m   1560\u001B[0m     cursor\u001B[38;5;241m.\u001B[39mexecute(sql, params)\n",
      "File \u001B[1;32m~\\AppData\\Local\\Programs\\Python\\Python311\\Lib\\site-packages\\django\\utils\\asyncio.py:24\u001B[0m, in \u001B[0;36masync_unsafe.<locals>.decorator.<locals>.inner\u001B[1;34m(*args, **kwargs)\u001B[0m\n\u001B[0;32m     22\u001B[0m \u001B[38;5;28;01melse\u001B[39;00m:\n\u001B[0;32m     23\u001B[0m     \u001B[38;5;28;01mif\u001B[39;00m \u001B[38;5;129;01mnot\u001B[39;00m os\u001B[38;5;241m.\u001B[39menviron\u001B[38;5;241m.\u001B[39mget(\u001B[38;5;124m\"\u001B[39m\u001B[38;5;124mDJANGO_ALLOW_ASYNC_UNSAFE\u001B[39m\u001B[38;5;124m\"\u001B[39m):\n\u001B[1;32m---> 24\u001B[0m         \u001B[38;5;28;01mraise\u001B[39;00m SynchronousOnlyOperation(message)\n\u001B[0;32m     25\u001B[0m \u001B[38;5;66;03m# Pass onward.\u001B[39;00m\n\u001B[0;32m     26\u001B[0m \u001B[38;5;28;01mreturn\u001B[39;00m func(\u001B[38;5;241m*\u001B[39margs, \u001B[38;5;241m*\u001B[39m\u001B[38;5;241m*\u001B[39mkwargs)\n",
      "\u001B[1;31mSynchronousOnlyOperation\u001B[0m: You cannot call this from an async context - use a thread or sync_to_async."
     ]
    }
   ],
   "source": [
    "\n",
    " #matrix = df_tickets.to_numpy()\n",
    "\n",
    "\n",
    "# tickets = df_tickets.to_records()\n",
    "# cols = df_tickets.columns.tolist()\n",
    "objects = []\n",
    "for _, row in df_tickets.iterrows():\n",
    "    transaction_data = {\n",
    "        'order_id': row['order_id'],\n",
    "        'shop_name': row['shop_name'],\n",
    "        'event_name': row['event_name'],\n",
    "        'event_category': row['event_subcategories'],\n",
    "        'first_event': row['first_event_date_start'],\n",
    "        'last_event': row['last_event_date_end'],\n",
    "        'first_name': row['first_name'],\n",
    "        'last_name': row['last_name'],\n",
    "        'email': row['email'],\n",
    "        'ticket_name': row['ticket_name'],\n",
    "        'barcode': row['barcode'],\n",
    "        'order_status': row['order_status'],\n",
    "        'order_invalidated': row['order_invalidated'],\n",
    "        'order_invalidated_at   ': row['order_invalidated_at'],\n",
    "        'ticket_invalidated': row['ticket_invalidated'],\n",
    "        'ticket_invalidated_at': row['ticket_invalidated_at'],\n",
    "        'created_at': row['created_at'],\n",
    "        'paid_currency': row['paid_currency'],\n",
    "        'order_value': row['order_value'],\n",
    "        'order_fees': row['order_fees'],\n",
    "        'transaction_fees': row['transaction_fees'],\n",
    "        'ticket_value': row['ticket_value'],\n",
    "        'ticket_fees': row['ticket_fees'],\n",
    "        'optionals_value': row['optionals_value'],\n",
    "        'refunded_amount': row['refunded_amount'],\n",
    "        'payment_method': row['payment_method'],\n",
    "        'coupons': row['coupons'],\n",
    "        'device': row['device'],\n",
    "        'tracker': row['tracker'],\n",
    "        'tracker_name': row['tracker_name'],\n",
    "        'seat': row['seat'],\n",
    "        'is_scanned': row['is_scanned'],\n",
    "        'first_scanned_at': row['first_scanned_at'],\n",
    "        'order_metadata_first_name': row['order_metadata_first_name'],\n",
    "        'order_metadata_last_name': row['order_metadata_last_name'],\n",
    "        'order_metadata_wrong1': row['order_metadata_wrong1'],\n",
    "        'order_metadata_wrong2': row['order_metadata_wrong2'],\n",
    "        'order_metadata_wrong3': row['order_metadata_wrong3'],\n",
    "        'order_metadata_wrong4': row['order_metadata_wrong4'],\n",
    "        'order_metadata_wrong5': row['order_metadata_wrong5'],\n",
    "        'order_metadata_wrong6': row['order_metadata_wrong6'],\n",
    "        'order_metadata_wrong7': row['order_metadata_wrong7'],\n",
    "        'order_metadata_wrong8': row['order_metadata_wrong8'],\n",
    "        'order_metadata_city': row['order_metadata_city'],\n",
    "        'order_metadata_gender': row['order_metadata_gender'],\n",
    "        'order_metadata_province': row['order_metadata_province'],\n",
    "        'order_metadata_company': row['order_metadata_company'],\n",
    "        'order_metadata_country': row['order_metadata_country'],\n",
    "        'order_metadata_covid_no_symptoms': row['order_metadata_covid_no_symptoms'],\n",
    "        'order_metadata_age': row['order_metadata_age'],\n",
    "        'order_metadata_wrong9': row['order_metadata_wrong9'],\n",
    "        'order_metadata_wrong10': row['order_metadata_wrong10'],\n",
    "        'order_metadata_wrong11': row['order_metadata_wrong11'],\n",
    "        'order_metadata_wrong12': row['order_metadata_wrong12'],\n",
    "        'order_metadata_wrong13': row['order_metadata_wrong13'],\n",
    "        'order_metadata_wrong14': row['order_metadata_wrong14'],\n",
    "        'order_ticket_metadata_first_name': row['order_ticket_metadata_first_name'],\n",
    "        'order_ticket_metadata_last_name': row['order_ticket_metadata_last_name'],\n",
    "        'order_ticket_wrong1': row['order_ticket_wrong1'],\n",
    "        'order_ticket_metadata_email': row['order_ticket_metadata_email'],\n",
    "        'order_ticket_metadata_street': row['order_ticket_metadata_street'],\n",
    "        'order_ticket_metadata_street_number': row['order_ticket_metadata_street_number'],\n",
    "        'order_ticket_metadata_street_number_additional': row['order_ticket_metadata_street_number_additional'],\n",
    "        'order_ticket_metadata_postal': row['order_ticket_metadata_postal'],\n",
    "        'order_ticket_metadata_date_of_birth': row['order_ticket_metadata_date_of_birth'],\n",
    "        'order_ticket_metadata_state': row['order_ticket_metadata_state'],\n",
    "        'order_ticket_metadata_city': row['order_ticket_metadata_city'],\n",
    "        'order_ticket_metadata_gender': row['order_ticket_metadata_gender'],\n",
    "        'order_ticket_metadata_province': row['order_ticket_metadata_province'],\n",
    "        'order_ticket_metadata_company': row['order_ticket_metadata_company'],\n",
    "        'order_ticket_metadata_country': row['order_ticket_metadata_country'],\n",
    "        'order_ticket_metadata_covid_no_symptoms': row['order_ticket_metadata_covid_no_symptoms'],\n",
    "        'order_ticket_metadata_age': row['order_ticket_metadata_age'],\n",
    "        'order_ticket_wrong2': row['order_ticket_wrong2'],\n",
    "        'order_ticket_metadata_phone': row['order_ticket_metadata_phone'],\n",
    "        'order_ticket_metadata_fullname': row['order_ticket_metadata_fullname'],\n",
    "        'order_ticket_metadata_covid_one_household': row['order_ticket_metadata_covid_one_household'],\n",
    "        'order_ticket_metadata_keep_me_informed': row['order_ticket_metadata_keep_me_informed'],\n",
    "        'order_ticket_metadata_Diet': row['order_ticket_metadata_Diet'],\n",
    "        'geolocation_street_name': row['geolocation_street_name'],\n",
    "        'geolocation_street_number': row['geolocation_street_number'],\n",
    "        'geolocation_locality': row['geolocation_locality'],\n",
    "        'geolocation_postal_code': row['geolocation_postal_code'],\n",
    "        'geolocation_sub_locality': row['geolocation_sub_locality'],\n",
    "        'geolocation_admin_level_1': row['geolocation_admin_level_1'],\n",
    "        'geolocation_admin_level_2': row['geolocation_admin_level_2'],\n",
    "        'geolocation_country_code': row['geolocation_country_code'],\n",
    "        'geolocation_latitude': row['geolocation_latitude'],\n",
    "        'geolocation_longitude': row['geolocation_longitude'],\n",
    "        'ticket_pdf_link': row['ticket_pdf_link']\n",
    "\n",
    "\n",
    "\n",
    "\n",
    "\n",
    "        # add other valid attributes here\n",
    "    }\n",
    "    obj = models.Transaction(transaction_data)\n",
    "    obj.save()\n",
    "\n",
    "    # transaction = models.Transaction(**transaction_data)\n",
    "    # transaction.save()\n",
    "\n",
    "objects\n",
    "# objects = []\n",
    "# for index, row in df_tickets.iterrows():\n",
    "#     obj = models.Transaction(**row)\n",
    "#     objects.append(row)\n"
   ]
  },
  {
   "cell_type": "code",
   "execution_count": 8,
   "id": "71bfe6e3-41ff-4393-879f-ebef51afcaf5",
   "metadata": {
    "tags": []
   },
   "outputs": [
    {
     "ename": "NameError",
     "evalue": "name 'df' is not defined",
     "output_type": "error",
     "traceback": [
      "\u001B[1;31m---------------------------------------------------------------------------\u001B[0m",
      "\u001B[1;31mNameError\u001B[0m                                 Traceback (most recent call last)",
      "Cell \u001B[1;32mIn[8], line 1\u001B[0m\n\u001B[1;32m----> 1\u001B[0m \u001B[38;5;28;01mfor\u001B[39;00m row \u001B[38;5;129;01min\u001B[39;00m \u001B[43mdf\u001B[49m:\n\u001B[0;32m      2\u001B[0m     \u001B[38;5;28mprint\u001B[39m(\u001B[38;5;124m'\u001B[39m\u001B[38;5;124mTransaction\u001B[39m\u001B[38;5;124m'\u001B[39m, row[\u001B[38;5;124m'\u001B[39m\u001B[38;5;124morder_id\u001B[39m\u001B[38;5;124m'\u001B[39m])\n",
      "\u001B[1;31mNameError\u001B[0m: name 'df' is not defined"
     ]
    }
   ],
   "source": [
    "for row in df:\n",
    "    print('Transaction', row['order_id'])"
   ]
  },
  {
   "cell_type": "code",
   "execution_count": null,
   "id": "04b6343c-ffbd-4029-a331-9fe8b1f8cea2",
   "metadata": {},
   "outputs": [],
   "source": [
    "with open('names.csv', newline='') as csvfile:\n",
    "    reader = csv.DictReader(csvfile)\n",
    "    for row in reader:\n",
    "        print(row['first_name'], row['last_name'])"
   ]
  }
 ],
 "metadata": {
  "kernelspec": {
   "display_name": "Python 3 (ipykernel)",
   "language": "python",
   "name": "python3"
  },
  "language_info": {
   "codemirror_mode": {
    "name": "ipython",
    "version": 3
   },
   "file_extension": ".py",
   "mimetype": "text/x-python",
   "name": "python",
   "nbconvert_exporter": "python",
   "pygments_lexer": "ipython3",
   "version": "3.11.2"
  }
 },
 "nbformat": 4,
 "nbformat_minor": 5
}
