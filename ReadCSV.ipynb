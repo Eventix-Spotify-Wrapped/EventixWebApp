{
 "cells": [
  {
   "cell_type": "code",
   "execution_count": 66,
   "id": "dd39ac96-b17e-4d35-bf87-68d2a4b5eee2",
   "metadata": {
    "tags": []
   },
   "outputs": [
    {
     "ename": "ModuleNotFoundError",
     "evalue": "No module named 'models'",
     "output_type": "error",
     "traceback": [
      "\u001b[1;31m---------------------------------------------------------------------------\u001b[0m",
      "\u001b[1;31mModuleNotFoundError\u001b[0m                       Traceback (most recent call last)",
      "Cell \u001b[1;32mIn[66], line 3\u001b[0m\n\u001b[0;32m      1\u001b[0m \u001b[38;5;28;01mimport\u001b[39;00m \u001b[38;5;21;01mpandas\u001b[39;00m \u001b[38;5;28;01mas\u001b[39;00m \u001b[38;5;21;01mpd\u001b[39;00m\n\u001b[0;32m      2\u001b[0m \u001b[38;5;28;01mimport\u001b[39;00m \u001b[38;5;21;01mnumpy\u001b[39;00m \u001b[38;5;28;01mas\u001b[39;00m \u001b[38;5;21;01mnp\u001b[39;00m\n\u001b[1;32m----> 3\u001b[0m \u001b[38;5;28;01mimport\u001b[39;00m \u001b[38;5;21;01mmodels\u001b[39;00m\n",
      "\u001b[1;31mModuleNotFoundError\u001b[0m: No module named 'models'"
     ]
    }
   ],
   "source": [
    "import pandas as pd\n",
    "import numpy as np\n",
    "from django.db import models"
   ]
  },
  {
   "cell_type": "code",
   "execution_count": 65,
   "id": "9d0c0ec8-3b52-4190-8c7b-7862fa133174",
   "metadata": {
    "tags": []
   },
   "outputs": [
    {
     "ename": "AttributeError",
     "evalue": "module 'django.db.models' has no attribute 'Transcation'",
     "output_type": "error",
     "traceback": [
      "\u001b[1;31m---------------------------------------------------------------------------\u001b[0m",
      "\u001b[1;31mAttributeError\u001b[0m                            Traceback (most recent call last)",
      "Cell \u001b[1;32mIn[65], line 16\u001b[0m\n\u001b[0;32m     14\u001b[0m objects \u001b[38;5;241m=\u001b[39m []\n\u001b[0;32m     15\u001b[0m \u001b[38;5;28;01mfor\u001b[39;00m index, row \u001b[38;5;129;01min\u001b[39;00m df_tickets\u001b[38;5;241m.\u001b[39miterrows():\n\u001b[1;32m---> 16\u001b[0m     obj \u001b[38;5;241m=\u001b[39m \u001b[43mmodels\u001b[49m\u001b[38;5;241;43m.\u001b[39;49m\u001b[43mTranscation\u001b[49m(\u001b[38;5;241m*\u001b[39m\u001b[38;5;241m*\u001b[39mrow)\n\u001b[0;32m     17\u001b[0m     objects\u001b[38;5;241m.\u001b[39mappend(obj)\n",
      "\u001b[1;31mAttributeError\u001b[0m: module 'django.db.models' has no attribute 'Transcation'"
     ]
    }
   ],
   "source": [
    "df_tickets = pd.read_csv(\"ticketing_export_2023_03_24_11_27_16.csv\", encoding='latin1', low_memory=False)\n",
    "df_tickets\n",
    "# matrix = df_tickets.to_numpy()\n",
    "\n",
    "\n",
    "# tickets = df_tickets.to_records()\n",
    "# cols = df_tickets.columns.tolist()\n",
    "# objects = []\n",
    "# for _, row in df_tickets.iterrows():\n",
    "#     obj = models.Transaction(**row)\n",
    "#     objects.append(obj)\n",
    "\n",
    "\n",
    "objects = []\n",
    "for index, row in df_tickets.iterrows():\n",
    "    obj = models.Transcation(**row)\n",
    "    objects.append(obj)"
   ]
  },
  {
   "cell_type": "code",
   "execution_count": 34,
   "id": "71bfe6e3-41ff-4393-879f-ebef51afcaf5",
   "metadata": {
    "tags": []
   },
   "outputs": [
    {
     "ename": "TypeError",
     "evalue": "string indices must be integers, not 'str'",
     "output_type": "error",
     "traceback": [
      "\u001b[1;31m---------------------------------------------------------------------------\u001b[0m",
      "\u001b[1;31mTypeError\u001b[0m                                 Traceback (most recent call last)",
      "Cell \u001b[1;32mIn[34], line 2\u001b[0m\n\u001b[0;32m      1\u001b[0m \u001b[38;5;28;01mfor\u001b[39;00m row \u001b[38;5;129;01min\u001b[39;00m df:\n\u001b[1;32m----> 2\u001b[0m     \u001b[38;5;28mprint\u001b[39m(\u001b[38;5;124m'\u001b[39m\u001b[38;5;124mTransaction\u001b[39m\u001b[38;5;124m'\u001b[39m, \u001b[43mrow\u001b[49m\u001b[43m[\u001b[49m\u001b[38;5;124;43m'\u001b[39;49m\u001b[38;5;124;43morder_id\u001b[39;49m\u001b[38;5;124;43m'\u001b[39;49m\u001b[43m]\u001b[49m)\n",
      "\u001b[1;31mTypeError\u001b[0m: string indices must be integers, not 'str'"
     ]
    }
   ],
   "source": [
    "for row in df:\n",
    "    print('Transaction', row['order_id'])"
   ]
  },
  {
   "cell_type": "code",
   "execution_count": null,
   "id": "04b6343c-ffbd-4029-a331-9fe8b1f8cea2",
   "metadata": {},
   "outputs": [],
   "source": [
    "with open('names.csv', newline='') as csvfile:\n",
    "    reader = csv.DictReader(csvfile)\n",
    "    for row in reader:\n",
    "        print(row['first_name'], row['last_name'])"
   ]
  }
 ],
 "metadata": {
  "kernelspec": {
   "display_name": "Python 3 (ipykernel)",
   "language": "python",
   "name": "python3"
  },
  "language_info": {
   "codemirror_mode": {
    "name": "ipython",
    "version": 3
   },
   "file_extension": ".py",
   "mimetype": "text/x-python",
   "name": "python",
   "nbconvert_exporter": "python",
   "pygments_lexer": "ipython3",
   "version": "3.11.2"
  }
 },
 "nbformat": 4,
 "nbformat_minor": 5
}
